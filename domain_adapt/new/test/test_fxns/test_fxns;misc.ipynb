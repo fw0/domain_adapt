{
 "cells": [
  {
   "cell_type": "code",
   "execution_count": 1,
   "metadata": {
    "collapsed": true
   },
   "outputs": [],
   "source": [
    "%load_ext autoreload\n",
    "%autoreload 2"
   ]
  },
  {
   "cell_type": "code",
   "execution_count": 2,
   "metadata": {
    "collapsed": false
   },
   "outputs": [
    {
     "name": "stderr",
     "output_type": "stream",
     "text": [
      "WARNING (theano.configdefaults): g++ not detected ! Theano will be unable to execute optimized C-implementations (for both CPU and GPU) and will default to Python implementations. Performance will be severely degraded. To remove this warning, set Theano flags cxx to an empty string.\n",
      "WARNING:theano.configdefaults:g++ not detected ! Theano will be unable to execute optimized C-implementations (for both CPU and GPU) and will default to Python implementations. Performance will be severely degraded. To remove this warning, set Theano flags cxx to an empty string.\n"
     ]
    },
    {
     "name": "stdout",
     "output_type": "stream",
     "text": [
      "Couldn't import dot_parser, loading of dot files will not be possible.\n"
     ]
    }
   ],
   "source": [
    "import numpy as np\n",
    "seed = 42\n",
    "np.random.seed(seed)\n",
    "import matplotlib.pyplot as plt\n",
    "import matplotlib\n",
    "from IPython.display import display_pretty, display_html\n",
    "import python_utils.python_utils.basic as basic\n",
    "import pandas as pd\n",
    "import pdb\n",
    "import itertools\n",
    "import functools\n",
    "import scipy.stats\n",
    "import cvxopt\n",
    "import autograd\n",
    "import autograd.numpy as np\n",
    "import domain_adapt.domain_adapt.new.fxns as fxns\n",
    "import domain_adapt.domain_adapt.new.utils as utils\n",
    "import domain_adapt.domain_adapt.new.optimizers as optimizers\n",
    "import domain_adapt.domain_adapt.SDR_data as data"
   ]
  },
  {
   "cell_type": "code",
   "execution_count": 3,
   "metadata": {
    "collapsed": false
   },
   "outputs": [
    {
     "name": "stdout",
     "output_type": "stream",
     "text": [
      "sklearn_b_opt [-0.2472514]\n",
      "[ 0.892559    0.53934224  0.80744016  0.8960913   0.31800347  0.11005192\n",
      "  0.22793516  0.42710779  0.81801477  0.86073058  0.00695213  0.5107473\n",
      "  0.417411    0.22210781  0.11986537]\n",
      "my b_opt [-0.24725453]\n"
     ]
    }
   ],
   "source": [
    "# test weighted least squares b_opt by comparing with sklearn\n",
    "\n",
    "np.random.seed(42)\n",
    "random_data = data.random_data(x_dim=2, shift=1.)\n",
    "num_train, num_test = 15, 15\n",
    "xs_train, xs_test, ys_train, ys_test = random_data.sample(num_train=num_train, num_test=num_test)\n",
    "\n",
    "B = utils.ortho(np.array([[1.,2.]]).T)\n",
    "ws_train = np.random.uniform(size=num_train)\n",
    "#ws_train = np.ones(shape=15)\n",
    "\n",
    "from sklearn.linear_model import Ridge\n",
    "c = .0001\n",
    "clf = Ridge(alpha=c, fit_intercept=False)\n",
    "clf.fit(np.dot(xs_train, B), ys_train, sample_weight=ws_train)\n",
    "sklearn_b_opt = clf.coef_\n",
    "print 'sklearn_b_opt', clf.coef_\n",
    "print ws_train\n",
    "b_opt = fxns.weighted_lsqr_b_opt(B, xs_train, ys_train, ws_train)\n",
    "print 'my b_opt', b_opt\n",
    "assert np.linalg.norm(b_opt-clf.coef_) < 0.001"
   ]
  },
  {
   "cell_type": "code",
   "execution_count": 4,
   "metadata": {
    "collapsed": false
   },
   "outputs": [
    {
     "name": "stdout",
     "output_type": "stream",
     "text": [
      "anal_grad (2, 1)\n",
      "[[-0.69035428]\n",
      " [ 0.34517714]]\n",
      "numerical_grad (2, 1)\n",
      "[[-0.6866309 ]\n",
      " [ 0.34226873]]\n",
      "error 0.00472465514768\n"
     ]
    }
   ],
   "source": [
    "# test gradient of composed weighted_lsqr_loss\n",
    "\n",
    "weighted_lsqr_loss_fxn = fxns.two_step(\\\n",
    "                                       g=fxns.fxn.autograd_fxn(_val=fxns.weighted_lsqr_b_opt),\\\n",
    "                                       h=fxns.fxn.autograd_fxn(_val=fxns.weighted_squared_loss_given_b_opt),\\\n",
    "                                       g_argnums=(0,1,2,3),\\\n",
    "                                       h_argnums=(0,1,2,3),\\\n",
    "                                       )\n",
    "\n",
    "np.random.seed(42)\n",
    "random_data = data.random_data(x_dim=2, shift=1.)\n",
    "num_train, num_test = 15, 15\n",
    "xs_train, xs_test, ys_train, ys_test = random_data.sample(num_train=num_train, num_test=num_test)\n",
    "B = utils.ortho(np.array([[1.,2.]]).T)\n",
    "ws_train = np.random.uniform(size=num_train)\n",
    "\n",
    "weighted_lsqr_loss_fxn.grad_check(B, xs_train, ys_train, ws_train, care_argnums=(0,))"
   ]
  },
  {
   "cell_type": "code",
   "execution_count": 11,
   "metadata": {
    "collapsed": false,
    "scrolled": false
   },
   "outputs": [
    {
     "name": "stdout",
     "output_type": "stream",
     "text": [
      "anal_grad (2, 1)\n",
      "[[-0.23117156]\n",
      " [ 0.31850578]]\n",
      "numerical_grad (2, 1)\n",
      "[[-0.23097997]\n",
      " [ 0.31867911]]\n",
      "error 0.000258354662221\n"
     ]
    }
   ],
   "source": [
    "# test gradient of b_opt, ws -> least squares loss of predicting losses due to b_opt\n",
    "\n",
    "weighted_lsqr_loss_loss_fxn =\\\n",
    "    fxns.weighted_lsqr_loss_loss_fxn(g=fxns.fxn.autograd_fxn(_val=fxns.b_opt_to_squared_losses),\\\n",
    "                                     h=fxns.weighted_lsqr_loss_fxn(\\\n",
    "                                                                    g=fxns.fxn.autograd_fxn(_val=fxns.weighted_lsqr_b_opt),\\\n",
    "                                                                    h=fxns.fxn.autograd_fxn(_val=fxns.weighted_squared_loss_given_b_opt),\\\n",
    "                                                                    g_argnums=(0,1,2,3),\\\n",
    "                                                                    h_argnums=(0,1,2,3),\\\n",
    "                                                                    g_val_h_argnum=4,\\\n",
    "                                                                    ),\\\n",
    "                                     g_argnums=(0,1,2,4),\\\n",
    "                                     h_argnums=(0,1,3),\\\n",
    "                                     g_val_h_argnum=2\\\n",
    "                                     )\n",
    "\n",
    "np.random.seed(42)\n",
    "random_data = data.random_data(x_dim=2, shift=1.)\n",
    "num_train, num_test = 15, 15\n",
    "xs_train, xs_test, ys_train, ys_test = random_data.sample(num_train=num_train, num_test=num_test)\n",
    "B = utils.ortho(np.array([[1.,2.]]).T)\n",
    "ws_train = np.random.uniform(size=num_train)\n",
    "b_opt = fxns.weighted_lsqr_b_opt(B, xs_train, ys_train, ws_train)\n",
    "\n",
    "weighted_lsqr_loss_loss_fxn.grad_check(B, xs_train, ys_train, ws_train, b_opt, care_argnums=(0,))"
   ]
  },
  {
   "cell_type": "code",
   "execution_count": 12,
   "metadata": {
    "collapsed": false,
    "scrolled": false
   },
   "outputs": [
    {
     "name": "stdout",
     "output_type": "stream",
     "text": [
      "[ -5.95132696e-02  -2.02381487e+00   1.37347639e+00   1.12627489e+00\n",
      "  -3.16682800e+00  -7.29298456e+00  -1.42463667e+01  -4.01472462e+00\n",
      "  -7.35572137e-02  -3.33004071e-02  -1.48075810e+03   7.64776135e-01\n",
      "  -4.08357031e-03  -1.38055943e+00   3.53682155e+01] asdf\n",
      "anal_grad (15,)\n",
      "[ -5.95132696e-02  -2.02381487e+00   1.37347639e+00   1.12627489e+00\n",
      "  -3.16682800e+00  -7.29298456e+00  -1.42463667e+01  -4.01472462e+00\n",
      "  -7.35572137e-02  -3.33004071e-02  -1.48075810e+03   7.64776135e-01\n",
      "  -4.08357031e-03  -1.38055943e+00   3.53682155e+01]\n",
      "numerical_grad (15,)\n",
      "[ -5.95006600e-02  -2.02338927e+00   1.37348844e+00   1.12626691e+00\n",
      "  -3.16563898e+00  -7.28526222e+00  -1.42400852e+01  -4.01378486e+00\n",
      "  -7.35480594e-02  -3.32784436e-02  -1.45976070e+03   7.64802180e-01\n",
      "  -4.08209214e-03  -1.37813448e+00   3.53732666e+01]\n",
      "error 20.9974024693\n"
     ]
    },
    {
     "ename": "AssertionError",
     "evalue": "",
     "output_type": "error",
     "traceback": [
      "\u001b[0;31m---------------------------------------------------------------------------\u001b[0m",
      "\u001b[0;31mAssertionError\u001b[0m                            Traceback (most recent call last)",
      "\u001b[0;32m<ipython-input-12-e973cf2384ca>\u001b[0m in \u001b[0;36m<module>\u001b[0;34m()\u001b[0m\n\u001b[1;32m     11\u001b[0m \u001b[0mb_opt\u001b[0m \u001b[0;34m=\u001b[0m \u001b[0mfxns\u001b[0m\u001b[0;34m.\u001b[0m\u001b[0mweighted_lsqr_b_opt\u001b[0m\u001b[0;34m(\u001b[0m\u001b[0mB\u001b[0m\u001b[0;34m,\u001b[0m \u001b[0mxs_train\u001b[0m\u001b[0;34m,\u001b[0m \u001b[0mys_train\u001b[0m\u001b[0;34m,\u001b[0m \u001b[0mws_train\u001b[0m\u001b[0;34m)\u001b[0m\u001b[0;34m\u001b[0m\u001b[0m\n\u001b[1;32m     12\u001b[0m \u001b[0;34m\u001b[0m\u001b[0m\n\u001b[0;32m---> 13\u001b[0;31m \u001b[0mupper_bound_fxn\u001b[0m\u001b[0;34m.\u001b[0m\u001b[0mgrad_check\u001b[0m\u001b[0;34m(\u001b[0m\u001b[0mB\u001b[0m\u001b[0;34m,\u001b[0m \u001b[0mxs_train\u001b[0m\u001b[0;34m,\u001b[0m \u001b[0mys_train\u001b[0m\u001b[0;34m,\u001b[0m \u001b[0mws_train\u001b[0m\u001b[0;34m,\u001b[0m \u001b[0mb_opt\u001b[0m\u001b[0;34m,\u001b[0m \u001b[0mws_full_train\u001b[0m\u001b[0;34m,\u001b[0m \u001b[0mcare_argnums\u001b[0m\u001b[0;34m=\u001b[0m\u001b[0;34m(\u001b[0m\u001b[0;36m3\u001b[0m\u001b[0;34m,\u001b[0m\u001b[0;34m)\u001b[0m\u001b[0;34m)\u001b[0m\u001b[0;34m\u001b[0m\u001b[0m\n\u001b[0m",
      "\u001b[0;32m/Users/fultonw/Documents/projects/code/domain_adapt/domain_adapt/new/fxns.py\u001b[0m in \u001b[0;36mgrad_check\u001b[0;34m(self, *args, **kwargs)\u001b[0m\n\u001b[1;32m    137\u001b[0m             \u001b[0;31m#print zip(a_anal_grad, a_check_grad)\u001b[0m\u001b[0;34m\u001b[0m\u001b[0;34m\u001b[0m\u001b[0m\n\u001b[1;32m    138\u001b[0m             \u001b[0;32mprint\u001b[0m \u001b[0;34m'error'\u001b[0m\u001b[0;34m,\u001b[0m \u001b[0mnp\u001b[0m\u001b[0;34m.\u001b[0m\u001b[0mlinalg\u001b[0m\u001b[0;34m.\u001b[0m\u001b[0mnorm\u001b[0m\u001b[0;34m(\u001b[0m\u001b[0ma_anal_grad\u001b[0m \u001b[0;34m-\u001b[0m \u001b[0ma_check_grad\u001b[0m\u001b[0;34m)\u001b[0m\u001b[0;34m\u001b[0m\u001b[0m\n\u001b[0;32m--> 139\u001b[0;31m             \u001b[0;32massert\u001b[0m \u001b[0mnp\u001b[0m\u001b[0;34m.\u001b[0m\u001b[0mlinalg\u001b[0m\u001b[0;34m.\u001b[0m\u001b[0mnorm\u001b[0m\u001b[0;34m(\u001b[0m\u001b[0ma_anal_grad\u001b[0m \u001b[0;34m-\u001b[0m \u001b[0ma_check_grad\u001b[0m\u001b[0;34m)\u001b[0m \u001b[0;34m<\u001b[0m \u001b[0mtol\u001b[0m\u001b[0;34m\u001b[0m\u001b[0m\n\u001b[0m\u001b[1;32m    140\u001b[0m             \u001b[0;31m#pdb.set_trace()\u001b[0m\u001b[0;34m\u001b[0m\u001b[0;34m\u001b[0m\u001b[0m\n\u001b[1;32m    141\u001b[0m \u001b[0;34m\u001b[0m\u001b[0m\n",
      "\u001b[0;31mAssertionError\u001b[0m: "
     ]
    }
   ],
   "source": [
    "# test upper bound term gradient\n",
    "upper_bound_fxn =\\\n",
    "    fxns.upper_bound(\\\n",
    "                     g=fxns.fxn.autograd_fxn(_val=fxns.expected_conditional_PE_dist),\\\n",
    "                     h=weighted_lsqr_loss_loss_fxn,\\\n",
    "                     g_argnums=(5,3),\\\n",
    "                     h_argnums=(0,1,2,3,4)\\\n",
    "                     )\n",
    "\n",
    "np.random.seed(42)\n",
    "random_data = data.random_data(x_dim=2, shift=1.)\n",
    "num_train, num_test = 15, 15\n",
    "xs_train, xs_test, ys_train, ys_test = random_data.sample(num_train=num_train, num_test=num_test)\n",
    "B = utils.ortho(np.array([[1.,2.]]).T)\n",
    "ws_train = np.random.uniform(size=num_train)\n",
    "ws_full_train = np.random.uniform(size=num_train)\n",
    "b_opt = fxns.weighted_lsqr_b_opt(B, xs_train, ys_train, ws_train)\n",
    "\n",
    "upper_bound_fxn.grad_check(B, xs_train, ys_train, ws_train, b_opt, ws_full_train, care_argnums=(3,))"
   ]
  },
  {
   "cell_type": "code",
   "execution_count": 16,
   "metadata": {
    "collapsed": false
   },
   "outputs": [
    {
     "name": "stdout",
     "output_type": "stream",
     "text": [
      "anal_grad (2, 1)\n",
      "[[-0.8999947 ]\n",
      " [ 0.63401755]]\n",
      "numerical_grad (2, 1)\n",
      "[[-0.89978348]\n",
      " [ 0.63421024]]\n",
      "error 0.000285910691086\n"
     ]
    }
   ],
   "source": [
    "# test total objective given b_opt, ws\n",
    "objective_given_b_opt_ws =\\\n",
    "    fxns.sum(fs=[\\\n",
    "                 fxns.fxn.autograd_fxn(_val=fxns.weighted_squared_loss_given_b_opt),\\\n",
    "                 upper_bound_fxn,\\\n",
    "                 ],\\\n",
    "             fs_argnums=[\\\n",
    "                         (0,1,2,3,4),\\\n",
    "                         (0,1,2,3,4,5)\n",
    "                        ]\\\n",
    "             )\n",
    "\n",
    "np.random.seed(42)\n",
    "random_data = data.random_data(x_dim=2, shift=1.)\n",
    "num_train, num_test = 15, 15\n",
    "xs_train, xs_test, ys_train, ys_test = random_data.sample(num_train=num_train, num_test=num_test)\n",
    "B = utils.ortho(np.array([[1.,2.]]).T)\n",
    "ws_train = np.random.uniform(size=num_train)\n",
    "ws_full_train = np.random.uniform(size=num_train)\n",
    "b_opt = fxns.weighted_lsqr_b_opt(B, xs_train, ys_train, ws_train)\n",
    "\n",
    "objective_given_b_opt_ws.grad_check(B, xs_train, ys_train, ws_train, b_opt, ws_full_train, care_argnums=(0,))"
   ]
  },
  {
   "cell_type": "code",
   "execution_count": 94,
   "metadata": {
    "collapsed": false,
    "scrolled": false
   },
   "outputs": [
    {
     "name": "stdout",
     "output_type": "stream",
     "text": [
      "[ 1.5]\n"
     ]
    },
    {
     "data": {
      "image/png": "[encoded data removed]",
      "text/plain": [
       "<IPython.core.display.Image object>"
      ]
     },
     "metadata": {},
     "output_type": "display_data"
    },
    {
     "data": {
      "text/plain": [
       "<matplotlib.figure.Figure at 0x1199f61d0>"
      ]
     },
     "execution_count": 94,
     "metadata": {},
     "output_type": "execute_result"
    }
   ],
   "source": [
    "# test logreg ratio\n",
    "\n",
    "# get data\n",
    "random_data = data.random_data(x_dim=2, shift=1.)\n",
    "num_train, num_test = 150, 150\n",
    "#xs_train, xs_test, ys_train, ys_test = random_data.sample(num_train=num_train, num_test=num_test)\n",
    "xs_train, xs_test, ys_train, ys_test = data.why_weighting_is_important_data(x_dim=2, num_train=num_train, num_test=num_test)\n",
    "\n",
    "# \n",
    "#w_max = 10\n",
    "#eps = 0.001\n",
    "logreg_ratio_objective = fxns.logreg_ratio_objective.autograd_fxn()\n",
    "dlogreg_ratio_objective_db = fxns.dopt_objective_dx.autograd_fxn(logreg_ratio_objective)\n",
    "damp = .1\n",
    "def lstsq_solver(A,b): \n",
    "    ans = scipy.sparse.linalg.lsmr(A, b, damp=damp)\n",
    "    print ans, 'end'\n",
    "    return ans[0]\n",
    "#lstsq_solver = lambda A,b: scipy.sparse.linalg.lsmr(A, b, damp=damp)[0]\n",
    "cg_solver = lambda A,b: scipy.sparse.linalg.cg(A, b)[0]\n",
    "lsmr_solver = None\n",
    "lin_solver = cg_solver\n",
    "b_opt_given_B_fxn = fxns.cvx_opt(lin_solver=lin_solver, objective=logreg_ratio_objective, dobjective_dx=dlogreg_ratio_objective_db)\n",
    "\n",
    "logreg_ratios_fxn = \\\n",
    "    fxns.two_step(\\\n",
    "                      g=b_opt_given_B_fxn,\\\n",
    "                      h=fxns.fxn.autograd_fxn(_val=fxns.b_to_logreg_ratios),\\\n",
    "                      g_argnums=(0,1,2,3),\\\n",
    "                      h_argnums=(0,1,2,3),\\\n",
    "                      g_val_h_argnum=0,\\\n",
    "                      )\n",
    "\n",
    "sigma = np.array([1.5])\n",
    "print sigma\n",
    "B = utils.ortho(np.array([[1.,2.]]).T)\n",
    "#b_opt = b_opt_given_B_fxn.val(xs_train, xs_test, sigma, B)\n",
    "\n",
    "                      \n",
    "#logreg_ratios_fxn.grad_check(xs_train, xs_test, sigma, B, care_argnums=(3,))\n",
    "ratios = logreg_ratios_fxn.val(xs_train, xs_test, sigma, B)\n",
    "\n",
    "fig, ax = plt.subplots()\n",
    "data.data.plot_us(B, xs_train, xs_test, ax)\n",
    "ratio_ax = ax.twinx()\n",
    "ratio_ax.scatter(np.dot(xs_train,B), ratios)\n",
    "ratio_ax.set_ylabel('estimated ratios')\n",
    "basic.display_fig_inline(fig)"
   ]
  }
 ],
 "metadata": {
  "kernelspec": {
   "display_name": "Python 2",
   "language": "python",
   "name": "python2"
  },
  "language_info": {
   "codemirror_mode": {
    "name": "ipython",
    "version": 2
   },
   "file_extension": ".py",
   "mimetype": "text/x-python",
   "name": "python",
   "nbconvert_exporter": "python",
   "pygments_lexer": "ipython2",
   "version": "2.7.6"
  }
 },
 "nbformat": 4,
 "nbformat_minor": 0
}
